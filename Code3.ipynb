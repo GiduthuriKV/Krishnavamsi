{
  "cells": [
    {
      "cell_type": "markdown",
      "metadata": {
        "id": "view-in-github",
        "colab_type": "text"
      },
      "source": [
        "<a href=\"https://colab.research.google.com/github/GiduthuriKV/Krishnavamsi/blob/main/Code3.ipynb\" target=\"_parent\"><img src=\"https://colab.research.google.com/assets/colab-badge.svg\" alt=\"Open In Colab\"/></a>"
      ]
    },
    {
      "cell_type": "code",
      "execution_count": 1,
      "metadata": {
        "id": "plsvC_nOUJg2",
        "outputId": "e60f6127-b2e9-4a12-d8ee-8e1dfb7a9bfa",
        "colab": {
          "base_uri": "https://localhost:8080/"
        }
      },
      "outputs": [
        {
          "name": "stdout",
          "output_type": "stream",
          "text": [
            "Enter marks scored : \n",
            "90\n"
          ]
        }
      ],
      "source": [
        "print(\"Enter marks scored : \");\n",
        "mark = int(input())"
      ]
    },
    {
      "cell_type": "code",
      "execution_count": 2,
      "metadata": {
        "id": "Z1dm7nXvUJg3",
        "outputId": "84af0aeb-07af-4c20-fb9b-00cfaef73176",
        "colab": {
          "base_uri": "https://localhost:8080/"
        }
      },
      "outputs": [
        {
          "output_type": "stream",
          "name": "stdout",
          "text": [
            "A Grade\n"
          ]
        }
      ],
      "source": [
        "if mark <= 100 :\n",
        "    if mark>=90 and mark<=100:\n",
        "        print(\"A Grade\")\n",
        "    elif mark>=80 and mark<=90:\n",
        "        print(\"B Grade\")\n",
        "    elif mark>=70 and mark<=80:\n",
        "        print(\"C Grade\")\n",
        "    elif mark>=60 and mark<=70:\n",
        "        print(\"D Grade\")\n",
        "    else:\n",
        "        print(\"Fail\")\n",
        "else:\n",
        "    print(\"Invalid entry\")"
      ]
    },
    {
      "cell_type": "code",
      "execution_count": null,
      "metadata": {
        "id": "r95bLRHOUJg4"
      },
      "outputs": [],
      "source": []
    }
  ],
  "metadata": {
    "kernelspec": {
      "display_name": "Python 3",
      "language": "python",
      "name": "python3"
    },
    "language_info": {
      "codemirror_mode": {
        "name": "ipython",
        "version": 3
      },
      "file_extension": ".py",
      "mimetype": "text/x-python",
      "name": "python",
      "nbconvert_exporter": "python",
      "pygments_lexer": "ipython3",
      "version": "3.8.5"
    },
    "colab": {
      "provenance": [],
      "include_colab_link": true
    }
  },
  "nbformat": 4,
  "nbformat_minor": 0
}